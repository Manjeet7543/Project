{
 "cells": [
  {
   "cell_type": "code",
   "execution_count": 1,
   "id": "ad77bc81",
   "metadata": {
    "_cell_guid": "b1076dfc-b9ad-4769-8c92-a6c4dae69d19",
    "_uuid": "8f2839f25d086af736a60e9eeb907d3b93b6e0e5",
    "execution": {
     "iopub.execute_input": "2024-01-28T06:46:26.328785Z",
     "iopub.status.busy": "2024-01-28T06:46:26.328008Z",
     "iopub.status.idle": "2024-01-28T06:46:40.125520Z",
     "shell.execute_reply": "2024-01-28T06:46:40.123890Z"
    },
    "papermill": {
     "duration": 13.811769,
     "end_time": "2024-01-28T06:46:40.128229",
     "exception": false,
     "start_time": "2024-01-28T06:46:26.316460",
     "status": "completed"
    },
    "tags": []
   },
   "outputs": [
    {
     "ename": "ModuleNotFoundError",
     "evalue": "No module named 'seaborn'",
     "output_type": "error",
     "traceback": [
      "\u001b[1;31m---------------------------------------------------------------------------\u001b[0m",
      "\u001b[1;31mModuleNotFoundError\u001b[0m                       Traceback (most recent call last)",
      "Cell \u001b[1;32mIn[1], line 5\u001b[0m\n\u001b[0;32m      2\u001b[0m \u001b[38;5;28;01mimport\u001b[39;00m \u001b[38;5;21;01mpandas\u001b[39;00m \u001b[38;5;28;01mas\u001b[39;00m \u001b[38;5;21;01mpd\u001b[39;00m \u001b[38;5;66;03m# data processing, CSV file I/O (e.g. pd.read_csv)\u001b[39;00m\n\u001b[0;32m      4\u001b[0m \u001b[38;5;28;01mimport\u001b[39;00m \u001b[38;5;21;01mmatplotlib\u001b[39;00m\u001b[38;5;21;01m.\u001b[39;00m\u001b[38;5;21;01mpyplot\u001b[39;00m \u001b[38;5;28;01mas\u001b[39;00m \u001b[38;5;21;01mplt\u001b[39;00m\n\u001b[1;32m----> 5\u001b[0m \u001b[38;5;28;01mimport\u001b[39;00m \u001b[38;5;21;01mseaborn\u001b[39;00m \u001b[38;5;28;01mas\u001b[39;00m \u001b[38;5;21;01msns\u001b[39;00m\n\u001b[0;32m      6\u001b[0m \u001b[38;5;28;01mimport\u001b[39;00m \u001b[38;5;21;01mmath\u001b[39;00m\n\u001b[0;32m      7\u001b[0m \u001b[38;5;28;01mimport\u001b[39;00m \u001b[38;5;21;01mdatetime\u001b[39;00m\n",
      "\u001b[1;31mModuleNotFoundError\u001b[0m: No module named 'seaborn'"
     ]
    }
   ],
   "source": [
    "import numpy as np # linear algebra\n",
    "import pandas as pd # data processing, CSV file I/O (e.g. pd.read_csv)\n",
    "\n",
    "import matplotlib.pyplot as plt\n",
    "import seaborn as sns\n",
    "import math\n",
    "import datetime\n",
    "\n",
    "import tensorflow as tf\n",
    "import warnings\n",
    "warnings.filterwarnings(action='ignore')\n",
    "\n",
    "import os\n",
    "for dirname, _, filenames in os.walk('/kaggle/input'):\n",
    "    for filename in filenames:\n",
    "        print(os.path.join(dirname, filename))"
   ]
  },
  {
   "cell_type": "markdown",
   "id": "3f95a632",
   "metadata": {
    "papermill": {
     "duration": 0.009028,
     "end_time": "2024-01-28T06:46:40.146791",
     "exception": false,
     "start_time": "2024-01-28T06:46:40.137763",
     "status": "completed"
    },
    "tags": []
   },
   "source": [
    "# Load the dataset"
   ]
  },
  {
   "cell_type": "code",
   "execution_count": null,
   "id": "6714914d",
   "metadata": {
    "execution": {
     "iopub.execute_input": "2024-01-28T06:46:40.167091Z",
     "iopub.status.busy": "2024-01-28T06:46:40.166180Z",
     "iopub.status.idle": "2024-01-28T06:46:45.464195Z",
     "shell.execute_reply": "2024-01-28T06:46:45.463142Z"
    },
    "papermill": {
     "duration": 5.311354,
     "end_time": "2024-01-28T06:46:45.467230",
     "exception": false,
     "start_time": "2024-01-28T06:46:40.155876",
     "status": "completed"
    },
    "tags": []
   },
   "outputs": [],
   "source": [
    "train = pd.read_csv(\"/kaggle/input/handwritten-digit-recognition/train.csv\")\n",
    "test = pd.read_csv(\"/kaggle/input/handwritten-digit-recognition/test.csv\")"
   ]
  },
  {
   "cell_type": "code",
   "execution_count": null,
   "id": "f622c2d5",
   "metadata": {
    "execution": {
     "iopub.execute_input": "2024-01-28T06:46:45.487997Z",
     "iopub.status.busy": "2024-01-28T06:46:45.487572Z",
     "iopub.status.idle": "2024-01-28T06:46:45.516391Z",
     "shell.execute_reply": "2024-01-28T06:46:45.515379Z"
    },
    "papermill": {
     "duration": 0.041905,
     "end_time": "2024-01-28T06:46:45.518540",
     "exception": false,
     "start_time": "2024-01-28T06:46:45.476635",
     "status": "completed"
    },
    "tags": []
   },
   "outputs": [
    {
     "data": {
      "text/html": [
       "<div>\n",
       "<style scoped>\n",
       "    .dataframe tbody tr th:only-of-type {\n",
       "        vertical-align: middle;\n",
       "    }\n",
       "\n",
       "    .dataframe tbody tr th {\n",
       "        vertical-align: top;\n",
       "    }\n",
       "\n",
       "    .dataframe thead th {\n",
       "        text-align: right;\n",
       "    }\n",
       "</style>\n",
       "<table border=\"1\" class=\"dataframe\">\n",
       "  <thead>\n",
       "    <tr style=\"text-align: right;\">\n",
       "      <th></th>\n",
       "      <th>label</th>\n",
       "      <th>pixel0</th>\n",
       "      <th>pixel1</th>\n",
       "      <th>pixel2</th>\n",
       "      <th>pixel3</th>\n",
       "      <th>pixel4</th>\n",
       "      <th>pixel5</th>\n",
       "      <th>pixel6</th>\n",
       "      <th>pixel7</th>\n",
       "      <th>pixel8</th>\n",
       "      <th>...</th>\n",
       "      <th>pixel774</th>\n",
       "      <th>pixel775</th>\n",
       "      <th>pixel776</th>\n",
       "      <th>pixel777</th>\n",
       "      <th>pixel778</th>\n",
       "      <th>pixel779</th>\n",
       "      <th>pixel780</th>\n",
       "      <th>pixel781</th>\n",
       "      <th>pixel782</th>\n",
       "      <th>pixel783</th>\n",
       "    </tr>\n",
       "  </thead>\n",
       "  <tbody>\n",
       "    <tr>\n",
       "      <th>0</th>\n",
       "      <td>1</td>\n",
       "      <td>0</td>\n",
       "      <td>0</td>\n",
       "      <td>0</td>\n",
       "      <td>0</td>\n",
       "      <td>0</td>\n",
       "      <td>0</td>\n",
       "      <td>0</td>\n",
       "      <td>0</td>\n",
       "      <td>0</td>\n",
       "      <td>...</td>\n",
       "      <td>0</td>\n",
       "      <td>0</td>\n",
       "      <td>0</td>\n",
       "      <td>0</td>\n",
       "      <td>0</td>\n",
       "      <td>0</td>\n",
       "      <td>0</td>\n",
       "      <td>0</td>\n",
       "      <td>0</td>\n",
       "      <td>0</td>\n",
       "    </tr>\n",
       "    <tr>\n",
       "      <th>1</th>\n",
       "      <td>0</td>\n",
       "      <td>0</td>\n",
       "      <td>0</td>\n",
       "      <td>0</td>\n",
       "      <td>0</td>\n",
       "      <td>0</td>\n",
       "      <td>0</td>\n",
       "      <td>0</td>\n",
       "      <td>0</td>\n",
       "      <td>0</td>\n",
       "      <td>...</td>\n",
       "      <td>0</td>\n",
       "      <td>0</td>\n",
       "      <td>0</td>\n",
       "      <td>0</td>\n",
       "      <td>0</td>\n",
       "      <td>0</td>\n",
       "      <td>0</td>\n",
       "      <td>0</td>\n",
       "      <td>0</td>\n",
       "      <td>0</td>\n",
       "    </tr>\n",
       "    <tr>\n",
       "      <th>2</th>\n",
       "      <td>1</td>\n",
       "      <td>0</td>\n",
       "      <td>0</td>\n",
       "      <td>0</td>\n",
       "      <td>0</td>\n",
       "      <td>0</td>\n",
       "      <td>0</td>\n",
       "      <td>0</td>\n",
       "      <td>0</td>\n",
       "      <td>0</td>\n",
       "      <td>...</td>\n",
       "      <td>0</td>\n",
       "      <td>0</td>\n",
       "      <td>0</td>\n",
       "      <td>0</td>\n",
       "      <td>0</td>\n",
       "      <td>0</td>\n",
       "      <td>0</td>\n",
       "      <td>0</td>\n",
       "      <td>0</td>\n",
       "      <td>0</td>\n",
       "    </tr>\n",
       "    <tr>\n",
       "      <th>3</th>\n",
       "      <td>4</td>\n",
       "      <td>0</td>\n",
       "      <td>0</td>\n",
       "      <td>0</td>\n",
       "      <td>0</td>\n",
       "      <td>0</td>\n",
       "      <td>0</td>\n",
       "      <td>0</td>\n",
       "      <td>0</td>\n",
       "      <td>0</td>\n",
       "      <td>...</td>\n",
       "      <td>0</td>\n",
       "      <td>0</td>\n",
       "      <td>0</td>\n",
       "      <td>0</td>\n",
       "      <td>0</td>\n",
       "      <td>0</td>\n",
       "      <td>0</td>\n",
       "      <td>0</td>\n",
       "      <td>0</td>\n",
       "      <td>0</td>\n",
       "    </tr>\n",
       "    <tr>\n",
       "      <th>4</th>\n",
       "      <td>0</td>\n",
       "      <td>0</td>\n",
       "      <td>0</td>\n",
       "      <td>0</td>\n",
       "      <td>0</td>\n",
       "      <td>0</td>\n",
       "      <td>0</td>\n",
       "      <td>0</td>\n",
       "      <td>0</td>\n",
       "      <td>0</td>\n",
       "      <td>...</td>\n",
       "      <td>0</td>\n",
       "      <td>0</td>\n",
       "      <td>0</td>\n",
       "      <td>0</td>\n",
       "      <td>0</td>\n",
       "      <td>0</td>\n",
       "      <td>0</td>\n",
       "      <td>0</td>\n",
       "      <td>0</td>\n",
       "      <td>0</td>\n",
       "    </tr>\n",
       "  </tbody>\n",
       "</table>\n",
       "<p>5 rows × 785 columns</p>\n",
       "</div>"
      ],
      "text/plain": [
       "   label  pixel0  pixel1  pixel2  pixel3  pixel4  pixel5  pixel6  pixel7  \\\n",
       "0      1       0       0       0       0       0       0       0       0   \n",
       "1      0       0       0       0       0       0       0       0       0   \n",
       "2      1       0       0       0       0       0       0       0       0   \n",
       "3      4       0       0       0       0       0       0       0       0   \n",
       "4      0       0       0       0       0       0       0       0       0   \n",
       "\n",
       "   pixel8  ...  pixel774  pixel775  pixel776  pixel777  pixel778  pixel779  \\\n",
       "0       0  ...         0         0         0         0         0         0   \n",
       "1       0  ...         0         0         0         0         0         0   \n",
       "2       0  ...         0         0         0         0         0         0   \n",
       "3       0  ...         0         0         0         0         0         0   \n",
       "4       0  ...         0         0         0         0         0         0   \n",
       "\n",
       "   pixel780  pixel781  pixel782  pixel783  \n",
       "0         0         0         0         0  \n",
       "1         0         0         0         0  \n",
       "2         0         0         0         0  \n",
       "3         0         0         0         0  \n",
       "4         0         0         0         0  \n",
       "\n",
       "[5 rows x 785 columns]"
      ]
     },
     "execution_count": 3,
     "metadata": {},
     "output_type": "execute_result"
    }
   ],
   "source": [
    "train.head()"
   ]
  },
  {
   "cell_type": "code",
   "execution_count": null,
   "id": "504db192",
   "metadata": {
    "execution": {
     "iopub.execute_input": "2024-01-28T06:46:45.540843Z",
     "iopub.status.busy": "2024-01-28T06:46:45.539706Z",
     "iopub.status.idle": "2024-01-28T06:46:45.556307Z",
     "shell.execute_reply": "2024-01-28T06:46:45.555221Z"
    },
    "papermill": {
     "duration": 0.030082,
     "end_time": "2024-01-28T06:46:45.558300",
     "exception": false,
     "start_time": "2024-01-28T06:46:45.528218",
     "status": "completed"
    },
    "tags": []
   },
   "outputs": [
    {
     "data": {
      "text/html": [
       "<div>\n",
       "<style scoped>\n",
       "    .dataframe tbody tr th:only-of-type {\n",
       "        vertical-align: middle;\n",
       "    }\n",
       "\n",
       "    .dataframe tbody tr th {\n",
       "        vertical-align: top;\n",
       "    }\n",
       "\n",
       "    .dataframe thead th {\n",
       "        text-align: right;\n",
       "    }\n",
       "</style>\n",
       "<table border=\"1\" class=\"dataframe\">\n",
       "  <thead>\n",
       "    <tr style=\"text-align: right;\">\n",
       "      <th></th>\n",
       "      <th>pixel0</th>\n",
       "      <th>pixel1</th>\n",
       "      <th>pixel2</th>\n",
       "      <th>pixel3</th>\n",
       "      <th>pixel4</th>\n",
       "      <th>pixel5</th>\n",
       "      <th>pixel6</th>\n",
       "      <th>pixel7</th>\n",
       "      <th>pixel8</th>\n",
       "      <th>pixel9</th>\n",
       "      <th>...</th>\n",
       "      <th>pixel774</th>\n",
       "      <th>pixel775</th>\n",
       "      <th>pixel776</th>\n",
       "      <th>pixel777</th>\n",
       "      <th>pixel778</th>\n",
       "      <th>pixel779</th>\n",
       "      <th>pixel780</th>\n",
       "      <th>pixel781</th>\n",
       "      <th>pixel782</th>\n",
       "      <th>pixel783</th>\n",
       "    </tr>\n",
       "  </thead>\n",
       "  <tbody>\n",
       "    <tr>\n",
       "      <th>0</th>\n",
       "      <td>0</td>\n",
       "      <td>0</td>\n",
       "      <td>0</td>\n",
       "      <td>0</td>\n",
       "      <td>0</td>\n",
       "      <td>0</td>\n",
       "      <td>0</td>\n",
       "      <td>0</td>\n",
       "      <td>0</td>\n",
       "      <td>0</td>\n",
       "      <td>...</td>\n",
       "      <td>0</td>\n",
       "      <td>0</td>\n",
       "      <td>0</td>\n",
       "      <td>0</td>\n",
       "      <td>0</td>\n",
       "      <td>0</td>\n",
       "      <td>0</td>\n",
       "      <td>0</td>\n",
       "      <td>0</td>\n",
       "      <td>0</td>\n",
       "    </tr>\n",
       "    <tr>\n",
       "      <th>1</th>\n",
       "      <td>0</td>\n",
       "      <td>0</td>\n",
       "      <td>0</td>\n",
       "      <td>0</td>\n",
       "      <td>0</td>\n",
       "      <td>0</td>\n",
       "      <td>0</td>\n",
       "      <td>0</td>\n",
       "      <td>0</td>\n",
       "      <td>0</td>\n",
       "      <td>...</td>\n",
       "      <td>0</td>\n",
       "      <td>0</td>\n",
       "      <td>0</td>\n",
       "      <td>0</td>\n",
       "      <td>0</td>\n",
       "      <td>0</td>\n",
       "      <td>0</td>\n",
       "      <td>0</td>\n",
       "      <td>0</td>\n",
       "      <td>0</td>\n",
       "    </tr>\n",
       "    <tr>\n",
       "      <th>2</th>\n",
       "      <td>0</td>\n",
       "      <td>0</td>\n",
       "      <td>0</td>\n",
       "      <td>0</td>\n",
       "      <td>0</td>\n",
       "      <td>0</td>\n",
       "      <td>0</td>\n",
       "      <td>0</td>\n",
       "      <td>0</td>\n",
       "      <td>0</td>\n",
       "      <td>...</td>\n",
       "      <td>0</td>\n",
       "      <td>0</td>\n",
       "      <td>0</td>\n",
       "      <td>0</td>\n",
       "      <td>0</td>\n",
       "      <td>0</td>\n",
       "      <td>0</td>\n",
       "      <td>0</td>\n",
       "      <td>0</td>\n",
       "      <td>0</td>\n",
       "    </tr>\n",
       "    <tr>\n",
       "      <th>3</th>\n",
       "      <td>0</td>\n",
       "      <td>0</td>\n",
       "      <td>0</td>\n",
       "      <td>0</td>\n",
       "      <td>0</td>\n",
       "      <td>0</td>\n",
       "      <td>0</td>\n",
       "      <td>0</td>\n",
       "      <td>0</td>\n",
       "      <td>0</td>\n",
       "      <td>...</td>\n",
       "      <td>0</td>\n",
       "      <td>0</td>\n",
       "      <td>0</td>\n",
       "      <td>0</td>\n",
       "      <td>0</td>\n",
       "      <td>0</td>\n",
       "      <td>0</td>\n",
       "      <td>0</td>\n",
       "      <td>0</td>\n",
       "      <td>0</td>\n",
       "    </tr>\n",
       "    <tr>\n",
       "      <th>4</th>\n",
       "      <td>0</td>\n",
       "      <td>0</td>\n",
       "      <td>0</td>\n",
       "      <td>0</td>\n",
       "      <td>0</td>\n",
       "      <td>0</td>\n",
       "      <td>0</td>\n",
       "      <td>0</td>\n",
       "      <td>0</td>\n",
       "      <td>0</td>\n",
       "      <td>...</td>\n",
       "      <td>0</td>\n",
       "      <td>0</td>\n",
       "      <td>0</td>\n",
       "      <td>0</td>\n",
       "      <td>0</td>\n",
       "      <td>0</td>\n",
       "      <td>0</td>\n",
       "      <td>0</td>\n",
       "      <td>0</td>\n",
       "      <td>0</td>\n",
       "    </tr>\n",
       "  </tbody>\n",
       "</table>\n",
       "<p>5 rows × 784 columns</p>\n",
       "</div>"
      ],
      "text/plain": [
       "   pixel0  pixel1  pixel2  pixel3  pixel4  pixel5  pixel6  pixel7  pixel8  \\\n",
       "0       0       0       0       0       0       0       0       0       0   \n",
       "1       0       0       0       0       0       0       0       0       0   \n",
       "2       0       0       0       0       0       0       0       0       0   \n",
       "3       0       0       0       0       0       0       0       0       0   \n",
       "4       0       0       0       0       0       0       0       0       0   \n",
       "\n",
       "   pixel9  ...  pixel774  pixel775  pixel776  pixel777  pixel778  pixel779  \\\n",
       "0       0  ...         0         0         0         0         0         0   \n",
       "1       0  ...         0         0         0         0         0         0   \n",
       "2       0  ...         0         0         0         0         0         0   \n",
       "3       0  ...         0         0         0         0         0         0   \n",
       "4       0  ...         0         0         0         0         0         0   \n",
       "\n",
       "   pixel780  pixel781  pixel782  pixel783  \n",
       "0         0         0         0         0  \n",
       "1         0         0         0         0  \n",
       "2         0         0         0         0  \n",
       "3         0         0         0         0  \n",
       "4         0         0         0         0  \n",
       "\n",
       "[5 rows x 784 columns]"
      ]
     },
     "execution_count": 4,
     "metadata": {},
     "output_type": "execute_result"
    }
   ],
   "source": [
    "test.head()"
   ]
  },
  {
   "cell_type": "code",
   "execution_count": null,
   "id": "c4c850c5",
   "metadata": {
    "execution": {
     "iopub.execute_input": "2024-01-28T06:46:45.579557Z",
     "iopub.status.busy": "2024-01-28T06:46:45.579195Z",
     "iopub.status.idle": "2024-01-28T06:46:45.629641Z",
     "shell.execute_reply": "2024-01-28T06:46:45.628548Z"
    },
    "papermill": {
     "duration": 0.063912,
     "end_time": "2024-01-28T06:46:45.632009",
     "exception": false,
     "start_time": "2024-01-28T06:46:45.568097",
     "status": "completed"
    },
    "tags": []
   },
   "outputs": [
    {
     "name": "stdout",
     "output_type": "stream",
     "text": [
      "<class 'pandas.core.frame.DataFrame'>\n",
      "RangeIndex: 42000 entries, 0 to 41999\n",
      "Columns: 785 entries, label to pixel783\n",
      "dtypes: int64(785)\n",
      "memory usage: 251.5 MB\n"
     ]
    },
    {
     "data": {
      "text/plain": [
       "(None, (42000, 785))"
      ]
     },
     "execution_count": 5,
     "metadata": {},
     "output_type": "execute_result"
    }
   ],
   "source": [
    "train.info(), train.shape"
   ]
  },
  {
   "cell_type": "code",
   "execution_count": null,
   "id": "c6edc5e8",
   "metadata": {
    "execution": {
     "iopub.execute_input": "2024-01-28T06:46:45.654385Z",
     "iopub.status.busy": "2024-01-28T06:46:45.653380Z",
     "iopub.status.idle": "2024-01-28T06:46:45.689050Z",
     "shell.execute_reply": "2024-01-28T06:46:45.687726Z"
    },
    "papermill": {
     "duration": 0.049181,
     "end_time": "2024-01-28T06:46:45.691115",
     "exception": false,
     "start_time": "2024-01-28T06:46:45.641934",
     "status": "completed"
    },
    "tags": []
   },
   "outputs": [
    {
     "name": "stdout",
     "output_type": "stream",
     "text": [
      "<class 'pandas.core.frame.DataFrame'>\n",
      "RangeIndex: 28000 entries, 0 to 27999\n",
      "Columns: 784 entries, pixel0 to pixel783\n",
      "dtypes: int64(784)\n",
      "memory usage: 167.5 MB\n"
     ]
    },
    {
     "data": {
      "text/plain": [
       "(None, (28000, 784))"
      ]
     },
     "execution_count": 6,
     "metadata": {},
     "output_type": "execute_result"
    }
   ],
   "source": [
    "test.info(), test.shape"
   ]
  },
  {
   "cell_type": "code",
   "execution_count": null,
   "id": "83174e7a",
   "metadata": {
    "execution": {
     "iopub.execute_input": "2024-01-28T06:46:45.713288Z",
     "iopub.status.busy": "2024-01-28T06:46:45.712892Z",
     "iopub.status.idle": "2024-01-28T06:46:45.718483Z",
     "shell.execute_reply": "2024-01-28T06:46:45.717552Z"
    },
    "papermill": {
     "duration": 0.019034,
     "end_time": "2024-01-28T06:46:45.720504",
     "exception": false,
     "start_time": "2024-01-28T06:46:45.701470",
     "status": "completed"
    },
    "tags": []
   },
   "outputs": [],
   "source": [
    "X = train.iloc[:, 1:785]\n",
    "y = train.iloc[:, 0]\n",
    "\n",
    "X_test = test.iloc[:, 0:784]"
   ]
  },
  {
   "cell_type": "markdown",
   "id": "d269db52",
   "metadata": {
    "papermill": {
     "duration": 0.010038,
     "end_time": "2024-01-28T06:46:45.741284",
     "exception": false,
     "start_time": "2024-01-28T06:46:45.731246",
     "status": "completed"
    },
    "tags": []
   },
   "source": [
    "# Splitting dataset into training and testing"
   ]
  },
  {
   "cell_type": "code",
   "execution_count": null,
   "id": "8dcc437e",
   "metadata": {
    "execution": {
     "iopub.execute_input": "2024-01-28T06:46:45.763099Z",
     "iopub.status.busy": "2024-01-28T06:46:45.762725Z",
     "iopub.status.idle": "2024-01-28T06:46:46.225610Z",
     "shell.execute_reply": "2024-01-28T06:46:46.224186Z"
    },
    "papermill": {
     "duration": 0.476691,
     "end_time": "2024-01-28T06:46:46.228187",
     "exception": false,
     "start_time": "2024-01-28T06:46:45.751496",
     "status": "completed"
    },
    "tags": []
   },
   "outputs": [],
   "source": [
    "from sklearn.model_selection import train_test_split\n",
    "\n",
    "X_train, X_val, y_train, y_val = train_test_split(X, y, test_size=0.2, random_state=1212)"
   ]
  },
  {
   "cell_type": "code",
   "execution_count": null,
   "id": "ced6a7c5",
   "metadata": {
    "execution": {
     "iopub.execute_input": "2024-01-28T06:46:46.251019Z",
     "iopub.status.busy": "2024-01-28T06:46:46.250603Z",
     "iopub.status.idle": "2024-01-28T06:46:46.256605Z",
     "shell.execute_reply": "2024-01-28T06:46:46.255737Z"
    },
    "papermill": {
     "duration": 0.020699,
     "end_time": "2024-01-28T06:46:46.259263",
     "exception": false,
     "start_time": "2024-01-28T06:46:46.238564",
     "status": "completed"
    },
    "tags": []
   },
   "outputs": [
    {
     "name": "stdout",
     "output_type": "stream",
     "text": [
      "X_train: (33600, 784)\n",
      "y_train: (33600,)\n",
      "X_validation: (8400, 784)\n",
      "y_validation: (8400,)\n"
     ]
    }
   ],
   "source": [
    "print('X_train:', X_train.shape)\n",
    "print('y_train:', y_train.shape)\n",
    "print('X_validation:', X_val.shape)\n",
    "print('y_validation:', y_val.shape)"
   ]
  },
  {
   "cell_type": "markdown",
   "id": "7638c519",
   "metadata": {
    "papermill": {
     "duration": 0.009892,
     "end_time": "2024-01-28T06:46:46.279445",
     "exception": false,
     "start_time": "2024-01-28T06:46:46.269553",
     "status": "completed"
    },
    "tags": []
   },
   "source": [
    "# Converting training, testing, and validation data into array"
   ]
  },
  {
   "cell_type": "code",
   "execution_count": null,
   "id": "9ac02149",
   "metadata": {
    "execution": {
     "iopub.execute_input": "2024-01-28T06:46:46.301682Z",
     "iopub.status.busy": "2024-01-28T06:46:46.301054Z",
     "iopub.status.idle": "2024-01-28T06:46:46.305741Z",
     "shell.execute_reply": "2024-01-28T06:46:46.305049Z"
    },
    "papermill": {
     "duration": 0.018295,
     "end_time": "2024-01-28T06:46:46.307828",
     "exception": false,
     "start_time": "2024-01-28T06:46:46.289533",
     "status": "completed"
    },
    "tags": []
   },
   "outputs": [],
   "source": [
    "x_train_re = X_train.to_numpy().reshape(33600, 28, 28)\n",
    "y_train_re = y_train.values\n",
    "x_validation_re = X_val.to_numpy().reshape(8400, 28, 28)\n",
    "y_validation_re = y_val.values\n",
    "x_test_re = test.to_numpy().reshape(28000, 28, 28)"
   ]
  },
  {
   "cell_type": "code",
   "execution_count": null,
   "id": "d510857d",
   "metadata": {
    "execution": {
     "iopub.execute_input": "2024-01-28T06:46:46.330304Z",
     "iopub.status.busy": "2024-01-28T06:46:46.329938Z",
     "iopub.status.idle": "2024-01-28T06:46:46.335266Z",
     "shell.execute_reply": "2024-01-28T06:46:46.334254Z"
    },
    "papermill": {
     "duration": 0.018976,
     "end_time": "2024-01-28T06:46:46.337389",
     "exception": false,
     "start_time": "2024-01-28T06:46:46.318413",
     "status": "completed"
    },
    "tags": []
   },
   "outputs": [
    {
     "name": "stdout",
     "output_type": "stream",
     "text": [
      "x_train: (33600, 28, 28)\n",
      "y_train: (33600,)\n",
      "x_validation: (8400, 28, 28)\n",
      "y_validation: (8400,)\n",
      "x_test: (28000, 28, 28)\n"
     ]
    }
   ],
   "source": [
    "print('x_train:', x_train_re.shape)\n",
    "print('y_train:', y_train_re.shape)\n",
    "print('x_validation:', x_validation_re.shape)\n",
    "print('y_validation:', y_validation_re.shape)\n",
    "print('x_test:', x_test_re.shape)"
   ]
  },
  {
   "cell_type": "markdown",
   "id": "c517924f",
   "metadata": {
    "papermill": {
     "duration": 0.010263,
     "end_time": "2024-01-28T06:46:46.359067",
     "exception": false,
     "start_time": "2024-01-28T06:46:46.348804",
     "status": "completed"
    },
    "tags": []
   },
   "source": [
    "* Save image parameters to the constants that we will use later for data re-shaping and for model traning."
   ]
  },
  {
   "cell_type": "code",
   "execution_count": null,
   "id": "b4b03a70",
   "metadata": {
    "execution": {
     "iopub.execute_input": "2024-01-28T06:46:46.439870Z",
     "iopub.status.busy": "2024-01-28T06:46:46.439473Z",
     "iopub.status.idle": "2024-01-28T06:46:46.445607Z",
     "shell.execute_reply": "2024-01-28T06:46:46.444543Z"
    },
    "papermill": {
     "duration": 0.021031,
     "end_time": "2024-01-28T06:46:46.447957",
     "exception": false,
     "start_time": "2024-01-28T06:46:46.426926",
     "status": "completed"
    },
    "tags": []
   },
   "outputs": [
    {
     "name": "stdout",
     "output_type": "stream",
     "text": [
      "IMAGE_WIDTH: 28\n",
      "IMAGE_HEIGHT: 28\n",
      "IMAGE_CHANNELS: 1\n"
     ]
    }
   ],
   "source": [
    "(_, IMAGE_WIDTH, IMAGE_HEIGHT) = x_train_re.shape\n",
    "IMAGE_CHANNELS = 1\n",
    "\n",
    "print('IMAGE_WIDTH:', IMAGE_WIDTH)\n",
    "print('IMAGE_HEIGHT:', IMAGE_HEIGHT)\n",
    "print('IMAGE_CHANNELS:', IMAGE_CHANNELS)"
   ]
  },
  {
   "cell_type": "markdown",
   "id": "a15ce698",
   "metadata": {
    "papermill": {
     "duration": 0.010415,
     "end_time": "2024-01-28T06:46:46.468923",
     "exception": false,
     "start_time": "2024-01-28T06:46:46.458508",
     "status": "completed"
    },
    "tags": []
   },
   "source": [
    "# Visualization"
   ]
  },
  {
   "cell_type": "code",
   "execution_count": null,
   "id": "34263e44",
   "metadata": {
    "execution": {
     "iopub.execute_input": "2024-01-28T06:46:46.492464Z",
     "iopub.status.busy": "2024-01-28T06:46:46.491242Z",
     "iopub.status.idle": "2024-01-28T06:46:46.724599Z",
     "shell.execute_reply": "2024-01-28T06:46:46.723301Z"
    },
    "papermill": {
     "duration": 0.247752,
     "end_time": "2024-01-28T06:46:46.727086",
     "exception": false,
     "start_time": "2024-01-28T06:46:46.479334",
     "status": "completed"
    },
    "tags": []
   },
   "outputs": [
    {
     "data": {
      "image/png": "[encoded data removed]",
      "text/plain": [
       "<Figure size 640x480 with 1 Axes>"
      ]
     },
     "metadata": {},
     "output_type": "display_data"
    }
   ],
   "source": [
    "plt.imshow(x_train_re[0], cmap=plt.cm.binary)\n",
    "plt.show()"
   ]
  },
  {
   "cell_type": "code",
   "execution_count": null,
   "id": "dbb6c449",
   "metadata": {
    "execution": {
     "iopub.execute_input": "2024-01-28T06:46:46.750648Z",
     "iopub.status.busy": "2024-01-28T06:46:46.750270Z",
     "iopub.status.idle": "2024-01-28T06:46:51.171783Z",
     "shell.execute_reply": "2024-01-28T06:46:51.170618Z"
    },
    "papermill": {
     "duration": 4.437021,
     "end_time": "2024-01-28T06:46:51.175033",
     "exception": false,
     "start_time": "2024-01-28T06:46:46.738012",
     "status": "completed"
    },
    "tags": []
   },
   "outputs": [
    {
     "data": {
      "image/png": "[encoded data removed]",
      "text/plain": [
       "<Figure size 2000x2000 with 100 Axes>"
      ]
     },
     "metadata": {},
     "output_type": "display_data"
    }
   ],
   "source": [
    "numbers_to_display = 100\n",
    "num_cells = math.ceil(math.sqrt(numbers_to_display))\n",
    "plt.figure(figsize=(20,20))\n",
    "for i in range(numbers_to_display):\n",
    "    plt.subplot(num_cells, num_cells, i+1)\n",
    "    plt.xticks([])\n",
    "    plt.yticks([])\n",
    "    plt.grid(False)\n",
    "    plt.imshow(x_train_re[i], cmap=plt.cm.binary)\n",
    "    plt.xlabel(y_train_re[i])\n",
    "plt.show()"
   ]
  },
  {
   "cell_type": "markdown",
   "id": "53b15042",
   "metadata": {
    "papermill": {
     "duration": 0.013256,
     "end_time": "2024-01-28T06:46:51.201996",
     "exception": false,
     "start_time": "2024-01-28T06:46:51.188740",
     "status": "completed"
    },
    "tags": []
   },
   "source": [
    "# Reshaping train,test, and validation data"
   ]
  },
  {
   "cell_type": "code",
   "execution_count": null,
   "id": "b67be633",
   "metadata": {
    "execution": {
     "iopub.execute_input": "2024-01-28T06:46:51.229719Z",
     "iopub.status.busy": "2024-01-28T06:46:51.229023Z",
     "iopub.status.idle": "2024-01-28T06:46:51.234118Z",
     "shell.execute_reply": "2024-01-28T06:46:51.233224Z"
    },
    "papermill": {
     "duration": 0.021213,
     "end_time": "2024-01-28T06:46:51.236223",
     "exception": false,
     "start_time": "2024-01-28T06:46:51.215010",
     "status": "completed"
    },
    "tags": []
   },
   "outputs": [],
   "source": [
    "x_train_with_chanels = x_train_re.reshape(\n",
    "    x_train_re.shape[0],\n",
    "    IMAGE_WIDTH,\n",
    "    IMAGE_HEIGHT,\n",
    "    IMAGE_CHANNELS\n",
    ")\n",
    "\n",
    "x_validation_with_chanels = x_validation_re.reshape(\n",
    "    x_validation_re.shape[0],\n",
    "    IMAGE_WIDTH,\n",
    "    IMAGE_HEIGHT,\n",
    "    IMAGE_CHANNELS\n",
    ")\n",
    "\n",
    "x_test_with_chanels = x_test_re.reshape(\n",
    "    x_test_re.shape[0],\n",
    "    IMAGE_WIDTH,\n",
    "    IMAGE_HEIGHT,\n",
    "    IMAGE_CHANNELS\n",
    ")"
   ]
  },
  {
   "cell_type": "code",
   "execution_count": null,
   "id": "3c8e34dc",
   "metadata": {
    "execution": {
     "iopub.execute_input": "2024-01-28T06:46:51.264055Z",
     "iopub.status.busy": "2024-01-28T06:46:51.263371Z",
     "iopub.status.idle": "2024-01-28T06:46:51.268703Z",
     "shell.execute_reply": "2024-01-28T06:46:51.267678Z"
    },
    "papermill": {
     "duration": 0.02174,
     "end_time": "2024-01-28T06:46:51.270770",
     "exception": false,
     "start_time": "2024-01-28T06:46:51.249030",
     "status": "completed"
    },
    "tags": []
   },
   "outputs": [
    {
     "name": "stdout",
     "output_type": "stream",
     "text": [
      "x_train_with_chanels: (33600, 28, 28, 1)\n",
      "x_validation_with_chanels: (8400, 28, 28, 1)\n",
      "x_test_with_chanels: (28000, 28, 28, 1)\n"
     ]
    }
   ],
   "source": [
    "print('x_train_with_chanels:', x_train_with_chanels.shape)\n",
    "print('x_validation_with_chanels:', x_validation_with_chanels.shape)\n",
    "print('x_test_with_chanels:', x_test_with_chanels.shape)"
   ]
  },
  {
   "cell_type": "markdown",
   "id": "0dab0672",
   "metadata": {
    "papermill": {
     "duration": 0.012444,
     "end_time": "2024-01-28T06:46:51.295804",
     "exception": false,
     "start_time": "2024-01-28T06:46:51.283360",
     "status": "completed"
    },
    "tags": []
   },
   "source": [
    "# Normalize train, test, and validation dataset"
   ]
  },
  {
   "cell_type": "code",
   "execution_count": null,
   "id": "fc80b690",
   "metadata": {
    "execution": {
     "iopub.execute_input": "2024-01-28T06:46:51.322498Z",
     "iopub.status.busy": "2024-01-28T06:46:51.322120Z",
     "iopub.status.idle": "2024-01-28T06:46:51.554448Z",
     "shell.execute_reply": "2024-01-28T06:46:51.553293Z"
    },
    "papermill": {
     "duration": 0.248752,
     "end_time": "2024-01-28T06:46:51.557278",
     "exception": false,
     "start_time": "2024-01-28T06:46:51.308526",
     "status": "completed"
    },
    "tags": []
   },
   "outputs": [],
   "source": [
    "x_train_normalized = x_train_with_chanels / 255\n",
    "x_validation_normalized = x_validation_with_chanels / 255\n",
    "x_test_normalized = x_test_with_chanels / 255"
   ]
  },
  {
   "cell_type": "markdown",
   "id": "845b446a",
   "metadata": {
    "papermill": {
     "duration": 0.012642,
     "end_time": "2024-01-28T06:46:51.582966",
     "exception": false,
     "start_time": "2024-01-28T06:46:51.570324",
     "status": "completed"
    },
    "tags": []
   },
   "source": [
    "# Model - CNN"
   ]
  },
  {
   "cell_type": "code",
   "execution_count": null,
   "id": "8fb2786c",
   "metadata": {
    "execution": {
     "iopub.execute_input": "2024-01-28T06:46:51.610230Z",
     "iopub.status.busy": "2024-01-28T06:46:51.609809Z",
     "iopub.status.idle": "2024-01-28T06:46:51.614948Z",
     "shell.execute_reply": "2024-01-28T06:46:51.614039Z"
    },
    "papermill": {
     "duration": 0.021206,
     "end_time": "2024-01-28T06:46:51.616917",
     "exception": false,
     "start_time": "2024-01-28T06:46:51.595711",
     "status": "completed"
    },
    "tags": []
   },
   "outputs": [],
   "source": [
    "from keras.models import Sequential # Sequential model\n",
    "from keras.layers import Convolution2D, MaxPooling2D, Dense, Dropout, Flatten # all layers\n",
    "from keras.activations import softmax, relu # activation function\n",
    "from keras.initializers import VarianceScaling # Layer weight initializers"
   ]
  },
  {
   "cell_type": "code",
   "execution_count": null,
   "id": "51894b49",
   "metadata": {
    "execution": {
     "iopub.execute_input": "2024-01-28T06:46:51.644530Z",
     "iopub.status.busy": "2024-01-28T06:46:51.643574Z",
     "iopub.status.idle": "2024-01-28T06:46:52.333370Z",
     "shell.execute_reply": "2024-01-28T06:46:52.332319Z"
    },
    "papermill": {
     "duration": 0.706079,
     "end_time": "2024-01-28T06:46:52.335748",
     "exception": false,
     "start_time": "2024-01-28T06:46:51.629669",
     "status": "completed"
    },
    "tags": []
   },
   "outputs": [],
   "source": [
    "model = Sequential()\n",
    "\n",
    "model.add(Convolution2D(input_shape=(IMAGE_WIDTH, IMAGE_HEIGHT, IMAGE_CHANNELS),\n",
    "    kernel_size=5,\n",
    "    filters=8,\n",
    "    strides=1,\n",
    "    activation=relu,\n",
    "    kernel_initializer=VarianceScaling()))\n",
    "model.add(MaxPooling2D(pool_size=(2,2), strides=(2,2)))\n",
    "\n",
    "model.add(Convolution2D(kernel_size=5, filters=16, strides=1, activation=relu,\n",
    "    kernel_initializer=VarianceScaling()))\n",
    "model.add(MaxPooling2D(pool_size=(2, 2),strides=(2, 2)))\n",
    "model.add(Flatten())\n",
    "\n",
    "model.add(Dense(units=128,activation=relu))\n",
    "model.add(Dropout(0.2))\n",
    "\n",
    "model.add(tf.keras.layers.Dense(\n",
    "    units=10,\n",
    "    activation=softmax,\n",
    "    kernel_initializer=VarianceScaling()))"
   ]
  },
  {
   "cell_type": "code",
   "execution_count": null,
   "id": "60e89310",
   "metadata": {
    "execution": {
     "iopub.execute_input": "2024-01-28T06:46:52.362760Z",
     "iopub.status.busy": "2024-01-28T06:46:52.362371Z",
     "iopub.status.idle": "2024-01-28T06:46:52.394598Z",
     "shell.execute_reply": "2024-01-28T06:46:52.393593Z"
    },
    "papermill": {
     "duration": 0.055615,
     "end_time": "2024-01-28T06:46:52.404211",
     "exception": false,
     "start_time": "2024-01-28T06:46:52.348596",
     "status": "completed"
    },
    "tags": []
   },
   "outputs": [
    {
     "name": "stdout",
     "output_type": "stream",
     "text": [
      "Model: \"sequential\"\n",
      "_________________________________________________________________\n",
      " Layer (type)                Output Shape              Param #   \n",
      "=================================================================\n",
      " conv2d (Conv2D)             (None, 24, 24, 8)         208       \n",
      "                                                                 \n",
      " max_pooling2d (MaxPooling2  (None, 12, 12, 8)         0         \n",
      " D)                                                              \n",
      "                                                                 \n",
      " conv2d_1 (Conv2D)           (None, 8, 8, 16)          3216      \n",
      "                                                                 \n",
      " max_pooling2d_1 (MaxPoolin  (None, 4, 4, 16)          0         \n",
      " g2D)                                                            \n",
      "                                                                 \n",
      " flatten (Flatten)           (None, 256)               0         \n",
      "                                                                 \n",
      " dense (Dense)               (None, 128)               32896     \n",
      "                                                                 \n",
      " dropout (Dropout)           (None, 128)               0         \n",
      "                                                                 \n",
      " dense_1 (Dense)             (None, 10)                1290      \n",
      "                                                                 \n",
      "=================================================================\n",
      "Total params: 37610 (146.91 KB)\n",
      "Trainable params: 37610 (146.91 KB)\n",
      "Non-trainable params: 0 (0.00 Byte)\n",
      "_________________________________________________________________\n"
     ]
    }
   ],
   "source": [
    "model.summary()"
   ]
  },
  {
   "cell_type": "code",
   "execution_count": null,
   "id": "e3ff3a1b",
   "metadata": {
    "execution": {
     "iopub.execute_input": "2024-01-28T06:46:52.434668Z",
     "iopub.status.busy": "2024-01-28T06:46:52.434306Z",
     "iopub.status.idle": "2024-01-28T06:46:52.453428Z",
     "shell.execute_reply": "2024-01-28T06:46:52.452265Z"
    },
    "papermill": {
     "duration": 0.037416,
     "end_time": "2024-01-28T06:46:52.456029",
     "exception": false,
     "start_time": "2024-01-28T06:46:52.418613",
     "status": "completed"
    },
    "tags": []
   },
   "outputs": [],
   "source": [
    "from keras.optimizers import Adam\n",
    "from keras.losses import sparse_categorical_crossentropy\n",
    "\n",
    "model.compile(optimizer=Adam(), loss=sparse_categorical_crossentropy, metrics=['accuracy'])\n"
   ]
  },
  {
   "cell_type": "markdown",
   "id": "530f6128",
   "metadata": {
    "papermill": {
     "duration": 0.014189,
     "end_time": "2024-01-28T06:46:52.484884",
     "exception": false,
     "start_time": "2024-01-28T06:46:52.470695",
     "status": "completed"
    },
    "tags": []
   },
   "source": [
    "# Train the model"
   ]
  },
  {
   "cell_type": "code",
   "execution_count": null,
   "id": "dca1fcc6",
   "metadata": {
    "execution": {
     "iopub.execute_input": "2024-01-28T06:46:52.515501Z",
     "iopub.status.busy": "2024-01-28T06:46:52.515151Z",
     "iopub.status.idle": "2024-01-28T06:50:15.766950Z",
     "shell.execute_reply": "2024-01-28T06:50:15.765348Z"
    },
    "papermill": {
     "duration": 203.461119,
     "end_time": "2024-01-28T06:50:15.960506",
     "exception": false,
     "start_time": "2024-01-28T06:46:52.499387",
     "status": "completed"
    },
    "tags": []
   },
   "outputs": [
    {
     "name": "stdout",
     "output_type": "stream",
     "text": [
      "Epoch 1/15\n",
      "1050/1050 [==============================] - 12s 10ms/step - loss: 0.2820 - accuracy: 0.9135 - val_loss: 0.1091 - val_accuracy: 0.9639\n",
      "Epoch 2/15\n",
      "1050/1050 [==============================] - 11s 10ms/step - loss: 0.0934 - accuracy: 0.9716 - val_loss: 0.0678 - val_accuracy: 0.9770\n",
      "Epoch 3/15\n",
      "1050/1050 [==============================] - 11s 10ms/step - loss: 0.0671 - accuracy: 0.9791 - val_loss: 0.0609 - val_accuracy: 0.9806\n",
      "Epoch 4/15\n",
      "1050/1050 [==============================] - 10s 10ms/step - loss: 0.0545 - accuracy: 0.9824 - val_loss: 0.0510 - val_accuracy: 0.9832\n",
      "Epoch 5/15\n",
      "1050/1050 [==============================] - 10s 10ms/step - loss: 0.0436 - accuracy: 0.9860 - val_loss: 0.0523 - val_accuracy: 0.9843\n",
      "Epoch 6/15\n",
      "1050/1050 [==============================] - 11s 10ms/step - loss: 0.0374 - accuracy: 0.9874 - val_loss: 0.0501 - val_accuracy: 0.9851\n",
      "Epoch 7/15\n",
      "1050/1050 [==============================] - 11s 10ms/step - loss: 0.0327 - accuracy: 0.9895 - val_loss: 0.0539 - val_accuracy: 0.9852\n",
      "Epoch 8/15\n",
      "1050/1050 [==============================] - 10s 10ms/step - loss: 0.0291 - accuracy: 0.9904 - val_loss: 0.0441 - val_accuracy: 0.9879\n",
      "Epoch 9/15\n",
      "1050/1050 [==============================] - 11s 10ms/step - loss: 0.0247 - accuracy: 0.9917 - val_loss: 0.0501 - val_accuracy: 0.9861\n",
      "Epoch 10/15\n",
      "1050/1050 [==============================] - 10s 10ms/step - loss: 0.0212 - accuracy: 0.9932 - val_loss: 0.0428 - val_accuracy: 0.9894\n",
      "Epoch 11/15\n",
      "1050/1050 [==============================] - 10s 10ms/step - loss: 0.0202 - accuracy: 0.9933 - val_loss: 0.0531 - val_accuracy: 0.9871\n",
      "Epoch 12/15\n",
      "1050/1050 [==============================] - 11s 10ms/step - loss: 0.0185 - accuracy: 0.9937 - val_loss: 0.0497 - val_accuracy: 0.9882\n",
      "Epoch 13/15\n",
      "1050/1050 [==============================] - 10s 10ms/step - loss: 0.0180 - accuracy: 0.9939 - val_loss: 0.0519 - val_accuracy: 0.9877\n",
      "Epoch 14/15\n",
      "1050/1050 [==============================] - 10s 10ms/step - loss: 0.0137 - accuracy: 0.9955 - val_loss: 0.0582 - val_accuracy: 0.9877\n",
      "Epoch 15/15\n",
      "1050/1050 [==============================] - 11s 10ms/step - loss: 0.0155 - accuracy: 0.9951 - val_loss: 0.0520 - val_accuracy: 0.9893\n",
      "The model has successfully trained\n"
     ]
    }
   ],
   "source": [
    "training_history = model.fit(\n",
    "    x_train_normalized,\n",
    "    y_train_re,\n",
    "    epochs=15,\n",
    "    validation_data=(x_validation_normalized, y_validation_re)\n",
    ")\n",
    "\n",
    "print(\"The model has successfully trained\")"
   ]
  },
  {
   "cell_type": "markdown",
   "id": "d3cc5fda",
   "metadata": {
    "papermill": {
     "duration": 0.197264,
     "end_time": "2024-01-28T06:50:16.349236",
     "exception": false,
     "start_time": "2024-01-28T06:50:16.151972",
     "status": "completed"
    },
    "tags": []
   },
   "source": [
    "# Model Evaluation"
   ]
  },
  {
   "cell_type": "code",
   "execution_count": null,
   "id": "3ab869d6",
   "metadata": {
    "execution": {
     "iopub.execute_input": "2024-01-28T06:50:16.726042Z",
     "iopub.status.busy": "2024-01-28T06:50:16.725611Z",
     "iopub.status.idle": "2024-01-28T06:50:17.004829Z",
     "shell.execute_reply": "2024-01-28T06:50:17.003676Z"
    },
    "papermill": {
     "duration": 0.47005,
     "end_time": "2024-01-28T06:50:17.007318",
     "exception": false,
     "start_time": "2024-01-28T06:50:16.537268",
     "status": "completed"
    },
    "tags": []
   },
   "outputs": [
    {
     "data": {
      "text/plain": [
       "<matplotlib.legend.Legend at 0x7efd6247baf0>"
      ]
     },
     "execution_count": 23,
     "metadata": {},
     "output_type": "execute_result"
    },
    {
     "data": {
      "image/png": "[encoded data removed]",
      "text/plain": [
       "<Figure size 640x480 with 1 Axes>"
      ]
     },
     "metadata": {},
     "output_type": "display_data"
    }
   ],
   "source": [
    "plt.xlabel('Epoch Number')\n",
    "plt.ylabel('Accuracy')\n",
    "plt.plot(training_history.history['loss'], label='training set')\n",
    "plt.plot(training_history.history['val_loss'], label='validation set')\n",
    "plt.legend()"
   ]
  },
  {
   "cell_type": "code",
   "execution_count": 3,
   "id": "93325ef4",
   "metadata": {
    "execution": {
     "iopub.execute_input": "2024-01-28T06:50:17.385225Z",
     "iopub.status.busy": "2024-01-28T06:50:17.383951Z",
     "iopub.status.idle": "2024-01-28T06:50:17.657864Z",
     "shell.execute_reply": "2024-01-28T06:50:17.656867Z"
    },
    "papermill": {
     "duration": 0.464537,
     "end_time": "2024-01-28T06:50:17.660149",
     "exception": false,
     "start_time": "2024-01-28T06:50:17.195612",
     "status": "completed"
    },
    "tags": []
   },
   "outputs": [
    {
     "ename": "NameError",
     "evalue": "name 'training_history' is not defined",
     "output_type": "error",
     "traceback": [
      "\u001b[1;31m---------------------------------------------------------------------------\u001b[0m",
      "\u001b[1;31mNameError\u001b[0m                                 Traceback (most recent call last)",
      "Cell \u001b[1;32mIn[3], line 3\u001b[0m\n\u001b[0;32m      1\u001b[0m plt\u001b[38;5;241m.\u001b[39mxlabel(\u001b[38;5;124m'\u001b[39m\u001b[38;5;124mEpoch Number\u001b[39m\u001b[38;5;124m'\u001b[39m)\n\u001b[0;32m      2\u001b[0m plt\u001b[38;5;241m.\u001b[39mylabel(\u001b[38;5;124m'\u001b[39m\u001b[38;5;124mAccuracy\u001b[39m\u001b[38;5;124m'\u001b[39m)\n\u001b[1;32m----> 3\u001b[0m plt\u001b[38;5;241m.\u001b[39mplot(\u001b[43mtraining_history\u001b[49m\u001b[38;5;241m.\u001b[39mhistory[\u001b[38;5;124m'\u001b[39m\u001b[38;5;124maccuracy\u001b[39m\u001b[38;5;124m'\u001b[39m], label\u001b[38;5;241m=\u001b[39m\u001b[38;5;124m'\u001b[39m\u001b[38;5;124mtraining set\u001b[39m\u001b[38;5;124m'\u001b[39m)\n\u001b[0;32m      4\u001b[0m plt\u001b[38;5;241m.\u001b[39mplot(training_history\u001b[38;5;241m.\u001b[39mhistory[\u001b[38;5;124m'\u001b[39m\u001b[38;5;124mval_accuracy\u001b[39m\u001b[38;5;124m'\u001b[39m], label\u001b[38;5;241m=\u001b[39m\u001b[38;5;124m'\u001b[39m\u001b[38;5;124mvalidation set\u001b[39m\u001b[38;5;124m'\u001b[39m)\n\u001b[0;32m      5\u001b[0m plt\u001b[38;5;241m.\u001b[39mlegend()\n",
      "\u001b[1;31mNameError\u001b[0m: name 'training_history' is not defined"
     ]
    },
    {
     "data": {
      "image/png": "[encoded data removed]",
      "text/plain": [
       "<Figure size 640x480 with 1 Axes>"
      ]
     },
     "metadata": {},
     "output_type": "display_data"
    }
   ],
   "source": [
    "plt.xlabel('Epoch Number')\n",
    "plt.ylabel('Accuracy')\n",
    "plt.plot(training_history.history['accuracy'], label='training set')\n",
    "plt.plot(training_history.history['val_accuracy'], label='validation set')\n",
    "plt.legend()"
   ]
  },
  {
   "cell_type": "markdown",
   "id": "daa13486",
   "metadata": {
    "papermill": {
     "duration": 0.186228,
     "end_time": "2024-01-28T06:50:18.032976",
     "exception": false,
     "start_time": "2024-01-28T06:50:17.846748",
     "status": "completed"
    },
    "tags": []
   },
   "source": [
    "# Testing model on train and test dataset"
   ]
  },
  {
   "cell_type": "code",
   "execution_count": null,
   "id": "c9c8c66d",
   "metadata": {
    "execution": {
     "iopub.execute_input": "2024-01-28T06:50:18.475912Z",
     "iopub.status.busy": "2024-01-28T06:50:18.475075Z",
     "iopub.status.idle": "2024-01-28T06:50:22.805324Z",
     "shell.execute_reply": "2024-01-28T06:50:22.804354Z"
    },
    "papermill": {
     "duration": 4.52568,
     "end_time": "2024-01-28T06:50:22.808213",
     "exception": false,
     "start_time": "2024-01-28T06:50:18.282533",
     "status": "completed"
    },
    "tags": []
   },
   "outputs": [
    {
     "name": "stdout",
     "output_type": "stream",
     "text": [
      "1050/1050 [==============================] - 4s 4ms/step - loss: 0.0080 - accuracy: 0.9975\n"
     ]
    }
   ],
   "source": [
    "train_loss, train_accuracy = model.evaluate(x_train_normalized, y_train_re)"
   ]
  },
  {
   "cell_type": "code",
   "execution_count": null,
   "id": "f9d5c807",
   "metadata": {
    "execution": {
     "iopub.execute_input": "2024-01-28T06:50:23.194383Z",
     "iopub.status.busy": "2024-01-28T06:50:23.193200Z",
     "iopub.status.idle": "2024-01-28T06:50:23.200483Z",
     "shell.execute_reply": "2024-01-28T06:50:23.199194Z"
    },
    "papermill": {
     "duration": 0.203039,
     "end_time": "2024-01-28T06:50:23.202953",
     "exception": false,
     "start_time": "2024-01-28T06:50:22.999914",
     "status": "completed"
    },
    "tags": []
   },
   "outputs": [
    {
     "name": "stdout",
     "output_type": "stream",
     "text": [
      "Train loss:  1.0 %\n",
      "Train accuracy:  100.0 %\n"
     ]
    }
   ],
   "source": [
    "print('Train loss: ', round(train_loss,2)*100, '%')\n",
    "print('Train accuracy: ', round(train_accuracy, 2)*100, '%')"
   ]
  },
  {
   "cell_type": "code",
   "execution_count": null,
   "id": "225e486e",
   "metadata": {
    "execution": {
     "iopub.execute_input": "2024-01-28T06:50:23.618512Z",
     "iopub.status.busy": "2024-01-28T06:50:23.617574Z",
     "iopub.status.idle": "2024-01-28T06:50:24.983717Z",
     "shell.execute_reply": "2024-01-28T06:50:24.982894Z"
    },
    "papermill": {
     "duration": 1.564412,
     "end_time": "2024-01-28T06:50:24.986181",
     "exception": false,
     "start_time": "2024-01-28T06:50:23.421769",
     "status": "completed"
    },
    "tags": []
   },
   "outputs": [
    {
     "name": "stdout",
     "output_type": "stream",
     "text": [
      "263/263 [==============================] - 1s 4ms/step - loss: 0.0520 - accuracy: 0.9893\n"
     ]
    }
   ],
   "source": [
    "test_loss, test_accuracy = model.evaluate(x_validation_normalized, y_validation_re)"
   ]
  },
  {
   "cell_type": "code",
   "execution_count": null,
   "id": "e8389495",
   "metadata": {
    "execution": {
     "iopub.execute_input": "2024-01-28T06:50:25.384752Z",
     "iopub.status.busy": "2024-01-28T06:50:25.383911Z",
     "iopub.status.idle": "2024-01-28T06:50:25.390316Z",
     "shell.execute_reply": "2024-01-28T06:50:25.389279Z"
    },
    "papermill": {
     "duration": 0.209855,
     "end_time": "2024-01-28T06:50:25.392409",
     "exception": false,
     "start_time": "2024-01-28T06:50:25.182554",
     "status": "completed"
    },
    "tags": []
   },
   "outputs": [
    {
     "name": "stdout",
     "output_type": "stream",
     "text": [
      "test loss:  5.0 %\n",
      "test accuracy:  99.0 %\n"
     ]
    }
   ],
   "source": [
    "print('test loss: ', round(test_loss, 2)*100, '%')\n",
    "print('test accuracy: ', round(test_accuracy,2)*100, '%')"
   ]
  },
  {
   "cell_type": "markdown",
   "id": "03938ea5",
   "metadata": {
    "papermill": {
     "duration": 0.193204,
     "end_time": "2024-01-28T06:50:25.780182",
     "exception": false,
     "start_time": "2024-01-28T06:50:25.586978",
     "status": "completed"
    },
    "tags": []
   },
   "source": [
    "# Save the model"
   ]
  },
  {
   "cell_type": "code",
   "execution_count": null,
   "id": "8b92a7a8",
   "metadata": {
    "execution": {
     "iopub.execute_input": "2024-01-28T06:50:26.236218Z",
     "iopub.status.busy": "2024-01-28T06:50:26.235820Z",
     "iopub.status.idle": "2024-01-28T06:50:26.275292Z",
     "shell.execute_reply": "2024-01-28T06:50:26.274296Z"
    },
    "papermill": {
     "duration": 0.301542,
     "end_time": "2024-01-28T06:50:26.277739",
     "exception": false,
     "start_time": "2024-01-28T06:50:25.976197",
     "status": "completed"
    },
    "tags": []
   },
   "outputs": [],
   "source": [
    "model_name = 'digits_recognition_cnn.h5'\n",
    "model.save(model_name, save_format='h5')"
   ]
  },
  {
   "cell_type": "code",
   "execution_count": null,
   "id": "5131860a",
   "metadata": {
    "execution": {
     "iopub.execute_input": "2024-01-28T06:50:26.674355Z",
     "iopub.status.busy": "2024-01-28T06:50:26.673987Z",
     "iopub.status.idle": "2024-01-28T06:50:26.798034Z",
     "shell.execute_reply": "2024-01-28T06:50:26.797147Z"
    },
    "papermill": {
     "duration": 0.324076,
     "end_time": "2024-01-28T06:50:26.800368",
     "exception": false,
     "start_time": "2024-01-28T06:50:26.476292",
     "status": "completed"
    },
    "tags": []
   },
   "outputs": [],
   "source": [
    "# Load the model\n",
    "loaded_model = tf.keras.models.load_model(model_name)"
   ]
  },
  {
   "cell_type": "code",
   "execution_count": null,
   "id": "dbc25323",
   "metadata": {
    "execution": {
     "iopub.execute_input": "2024-01-28T06:50:27.195676Z",
     "iopub.status.busy": "2024-01-28T06:50:27.194605Z",
     "iopub.status.idle": "2024-01-28T06:50:28.669658Z",
     "shell.execute_reply": "2024-01-28T06:50:28.668729Z"
    },
    "papermill": {
     "duration": 1.675238,
     "end_time": "2024-01-28T06:50:28.672093",
     "exception": false,
     "start_time": "2024-01-28T06:50:26.996855",
     "status": "completed"
    },
    "tags": []
   },
   "outputs": [
    {
     "name": "stdout",
     "output_type": "stream",
     "text": [
      "263/263 [==============================] - 1s 3ms/step\n"
     ]
    }
   ],
   "source": [
    "predictions_one_hot = loaded_model.predict([x_validation_normalized])"
   ]
  },
  {
   "cell_type": "markdown",
   "id": "5d730965",
   "metadata": {},
   "source": []
  },
  {
   "cell_type": "code",
   "execution_count": null,
   "id": "d5d6b45d",
   "metadata": {
    "execution": {
     "iopub.execute_input": "2024-01-28T06:50:29.063629Z",
     "iopub.status.busy": "2024-01-28T06:50:29.063244Z",
     "iopub.status.idle": "2024-01-28T06:50:29.070028Z",
     "shell.execute_reply": "2024-01-28T06:50:29.068404Z"
    },
    "papermill": {
     "duration": 0.205402,
     "end_time": "2024-01-28T06:50:29.072673",
     "exception": false,
     "start_time": "2024-01-28T06:50:28.867271",
     "status": "completed"
    },
    "tags": []
   },
   "outputs": [
    {
     "name": "stdout",
     "output_type": "stream",
     "text": [
      "predictions_one_hot: (8400, 10)\n"
     ]
    }
   ],
   "source": [
    "print('predictions_one_hot:', predictions_one_hot.shape)"
   ]
  },
  {
   "cell_type": "code",
   "execution_count": null,
   "id": "beed31ee",
   "metadata": {
    "execution": {
     "iopub.execute_input": "2024-01-28T06:50:29.489918Z",
     "iopub.status.busy": "2024-01-28T06:50:29.489465Z",
     "iopub.status.idle": "2024-01-28T06:50:29.499822Z",
     "shell.execute_reply": "2024-01-28T06:50:29.498818Z"
    },
    "papermill": {
     "duration": 0.218978,
     "end_time": "2024-01-28T06:50:29.502465",
     "exception": false,
     "start_time": "2024-01-28T06:50:29.283487",
     "status": "completed"
    },
    "tags": []
   },
   "outputs": [
    {
     "data": {
      "text/html": [
       "<div>\n",
       "<style scoped>\n",
       "    .dataframe tbody tr th:only-of-type {\n",
       "        vertical-align: middle;\n",
       "    }\n",
       "\n",
       "    .dataframe tbody tr th {\n",
       "        vertical-align: top;\n",
       "    }\n",
       "\n",
       "    .dataframe thead th {\n",
       "        text-align: right;\n",
       "    }\n",
       "</style>\n",
       "<table border=\"1\" class=\"dataframe\">\n",
       "  <thead>\n",
       "    <tr style=\"text-align: right;\">\n",
       "      <th></th>\n",
       "      <th>digit</th>\n",
       "    </tr>\n",
       "  </thead>\n",
       "  <tbody>\n",
       "    <tr>\n",
       "      <th>0</th>\n",
       "      <td>1</td>\n",
       "    </tr>\n",
       "    <tr>\n",
       "      <th>1</th>\n",
       "      <td>3</td>\n",
       "    </tr>\n",
       "    <tr>\n",
       "      <th>2</th>\n",
       "      <td>8</td>\n",
       "    </tr>\n",
       "    <tr>\n",
       "      <th>3</th>\n",
       "      <td>1</td>\n",
       "    </tr>\n",
       "    <tr>\n",
       "      <th>4</th>\n",
       "      <td>9</td>\n",
       "    </tr>\n",
       "  </tbody>\n",
       "</table>\n",
       "</div>"
      ],
      "text/plain": [
       "   digit\n",
       "0      1\n",
       "1      3\n",
       "2      8\n",
       "3      1\n",
       "4      9"
      ]
     },
     "execution_count": 33,
     "metadata": {},
     "output_type": "execute_result"
    }
   ],
   "source": [
    "# Let's extract predictions with highest probabilites and detect what digits have been actually recognized.\n",
    "predictions = np.argmax(predictions_one_hot, axis=1)\n",
    "pd.DataFrame(predictions, columns=['digit']).head()"
   ]
  },
  {
   "cell_type": "code",
   "execution_count": 2,
   "id": "9b1d3df6",
   "metadata": {
    "execution": {
     "iopub.execute_input": "2024-01-28T06:50:29.898961Z",
     "iopub.status.busy": "2024-01-28T06:50:29.897883Z",
     "iopub.status.idle": "2024-01-28T06:50:38.489196Z",
     "shell.execute_reply": "2024-01-28T06:50:38.488215Z"
    },
    "papermill": {
     "duration": 8.795739,
     "end_time": "2024-01-28T06:50:38.494904",
     "exception": false,
     "start_time": "2024-01-28T06:50:29.699165",
     "status": "completed"
    },
    "tags": []
   },
   "outputs": [
    {
     "ename": "NameError",
     "evalue": "name 'math' is not defined",
     "output_type": "error",
     "traceback": [
      "\u001b[1;31m---------------------------------------------------------------------------\u001b[0m",
      "\u001b[1;31mNameError\u001b[0m                                 Traceback (most recent call last)",
      "Cell \u001b[1;32mIn[2], line 2\u001b[0m\n\u001b[0;32m      1\u001b[0m numbers_to_display \u001b[38;5;241m=\u001b[39m \u001b[38;5;241m196\u001b[39m\n\u001b[1;32m----> 2\u001b[0m num_cells \u001b[38;5;241m=\u001b[39m \u001b[43mmath\u001b[49m\u001b[38;5;241m.\u001b[39mceil(math\u001b[38;5;241m.\u001b[39msqrt(numbers_to_display))\n\u001b[0;32m      3\u001b[0m plt\u001b[38;5;241m.\u001b[39mfigure(figsize\u001b[38;5;241m=\u001b[39m(\u001b[38;5;241m15\u001b[39m, \u001b[38;5;241m15\u001b[39m))\n\u001b[0;32m      5\u001b[0m \u001b[38;5;28;01mfor\u001b[39;00m plot_index \u001b[38;5;129;01min\u001b[39;00m \u001b[38;5;28mrange\u001b[39m(numbers_to_display):    \n",
      "\u001b[1;31mNameError\u001b[0m: name 'math' is not defined"
     ]
    }
   ],
   "source": [
    "numbers_to_display = 196\n",
    "num_cells = math.ceil(math.sqrt(numbers_to_display))\n",
    "plt.figure(figsize=(15, 15))\n",
    "\n",
    "for plot_index in range(numbers_to_display):    \n",
    "    predicted_label = predictions[plot_index]\n",
    "    plt.xticks([])\n",
    "    plt.yticks([])\n",
    "    plt.grid(False)\n",
    "    color_map = 'Greens' if predicted_label == y_validation_re[plot_index] else 'Reds'\n",
    "    plt.subplot(num_cells, num_cells, plot_index + 1)\n",
    "    plt.imshow(x_validation_normalized[plot_index].reshape((IMAGE_WIDTH, IMAGE_HEIGHT)), cmap=color_map)\n",
    "    plt.xlabel(predicted_label)\n",
    "\n",
    "plt.subplots_adjust(hspace=1, wspace=0.5)\n",
    "plt.show()"
   ]
  },
  {
   "cell_type": "code",
   "execution_count": null,
   "id": "dd381fb9",
   "metadata": {},
   "outputs": [],
   "source": []
  }
 ],
 "metadata": {
  "kaggle": {
   "accelerator": "none",
   "dataSources": [
    {
     "datasetId": 4363028,
     "sourceId": 7493320,
     "sourceType": "datasetVersion"
    }
   ],
   "dockerImageVersionId": 30635,
   "isGpuEnabled": false,
   "isInternetEnabled": true,
   "language": "python",
   "sourceType": "notebook"
  },
  "kernelspec": {
   "display_name": "Python 3",
   "language": "python",
   "name": "python3"
  },
  "language_info": {
   "codemirror_mode": {
    "name": "ipython",
    "version": 3
   },
   "file_extension": ".py",
   "mimetype": "text/x-python",
   "name": "python",
   "nbconvert_exporter": "python",
   "pygments_lexer": "ipython3",
   "version": "3.12.0"
  },
  "papermill": {
   "default_parameters": {},
   "duration": 257.183426,
   "end_time": "2024-01-28T06:50:40.522563",
   "environment_variables": {},
   "exception": null,
   "input_path": "__notebook__.ipynb",
   "output_path": "__notebook__.ipynb",
   "parameters": {},
   "start_time": "2024-01-28T06:46:23.339137",
   "version": "2.4.0"
  }
 },
 "nbformat": 4,
 "nbformat_minor": 5
}
